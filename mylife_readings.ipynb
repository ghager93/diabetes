{
 "cells": [
  {
   "cell_type": "code",
   "execution_count": 1,
   "id": "5d9d5c01",
   "metadata": {},
   "outputs": [
    {
     "name": "stdout",
     "output_type": "stream",
     "text": [
      "Using matplotlib backend: Qt5Agg\n",
      "Populating the interactive namespace from numpy and matplotlib\n"
     ]
    }
   ],
   "source": [
    "%pylab\n",
    "%matplotlib inline\n",
    "\n",
    "import pandas as pd\n",
    "import datetime as dt"
   ]
  },
  {
   "cell_type": "code",
   "execution_count": 14,
   "id": "f7bf39b8",
   "metadata": {},
   "outputs": [],
   "source": [
    "path = r'C:\\Users\\ghage\\Documents\\Diabetes\\myLife'\n",
    "filename1 = r'\\report-010420-310321\\010420-310321.csv'\n",
    "filename2 = r'\\report-180520-170521\\180520-170521-bg-bolus-carbs2.csv'"
   ]
  },
  {
   "cell_type": "code",
   "execution_count": 111,
   "id": "c63cd775",
   "metadata": {},
   "outputs": [],
   "source": [
    "df1 = pd.read_csv(path + filename1, usecols=[1, 2, 3, 4], parse_dates=[[0, 1]], dayfirst=True)\n",
    "df2 = pd.read_csv(path + filename2, usecols=[1, 2, 3, 4], parse_dates=[[0, 1]], dayfirst=True)"
   ]
  },
  {
   "cell_type": "code",
   "execution_count": 115,
   "id": "34560fce",
   "metadata": {},
   "outputs": [],
   "source": [
    "df = pd.concat([df1, df2]).drop_duplicates()"
   ]
  },
  {
   "cell_type": "code",
   "execution_count": 117,
   "id": "167f24be",
   "metadata": {},
   "outputs": [],
   "source": [
    "df = df.sort_values('Date_Time')"
   ]
  },
  {
   "cell_type": "code",
   "execution_count": 118,
   "id": "3c746d8d",
   "metadata": {},
   "outputs": [
    {
     "data": {
      "text/html": [
       "<div>\n",
       "<style scoped>\n",
       "    .dataframe tbody tr th:only-of-type {\n",
       "        vertical-align: middle;\n",
       "    }\n",
       "\n",
       "    .dataframe tbody tr th {\n",
       "        vertical-align: top;\n",
       "    }\n",
       "\n",
       "    .dataframe thead th {\n",
       "        text-align: right;\n",
       "    }\n",
       "</style>\n",
       "<table border=\"1\" class=\"dataframe\">\n",
       "  <thead>\n",
       "    <tr style=\"text-align: right;\">\n",
       "      <th></th>\n",
       "      <th>Date_Time</th>\n",
       "      <th>Event</th>\n",
       "      <th>Value</th>\n",
       "    </tr>\n",
       "  </thead>\n",
       "  <tbody>\n",
       "    <tr>\n",
       "      <th>2894</th>\n",
       "      <td>2020-04-23 12:00:00</td>\n",
       "      <td>Bolus</td>\n",
       "      <td>5.0</td>\n",
       "    </tr>\n",
       "    <tr>\n",
       "      <th>2893</th>\n",
       "      <td>2020-04-23 12:00:00</td>\n",
       "      <td>Blood glucose</td>\n",
       "      <td>23.9</td>\n",
       "    </tr>\n",
       "    <tr>\n",
       "      <th>2891</th>\n",
       "      <td>2020-04-23 13:55:00</td>\n",
       "      <td>Blood glucose</td>\n",
       "      <td>16.1</td>\n",
       "    </tr>\n",
       "    <tr>\n",
       "      <th>2892</th>\n",
       "      <td>2020-04-23 13:55:00</td>\n",
       "      <td>Carbohydrates</td>\n",
       "      <td>52.0</td>\n",
       "    </tr>\n",
       "    <tr>\n",
       "      <th>2890</th>\n",
       "      <td>2020-04-23 13:55:00</td>\n",
       "      <td>Bolus</td>\n",
       "      <td>2.5</td>\n",
       "    </tr>\n",
       "    <tr>\n",
       "      <th>...</th>\n",
       "      <td>...</td>\n",
       "      <td>...</td>\n",
       "      <td>...</td>\n",
       "    </tr>\n",
       "    <tr>\n",
       "      <th>3</th>\n",
       "      <td>2021-05-17 09:29:00</td>\n",
       "      <td>Bolus</td>\n",
       "      <td>3.0</td>\n",
       "    </tr>\n",
       "    <tr>\n",
       "      <th>5</th>\n",
       "      <td>2021-05-17 09:29:00</td>\n",
       "      <td>Carbohydrates</td>\n",
       "      <td>45.0</td>\n",
       "    </tr>\n",
       "    <tr>\n",
       "      <th>1</th>\n",
       "      <td>2021-05-17 13:49:00</td>\n",
       "      <td>Blood glucose</td>\n",
       "      <td>2.8</td>\n",
       "    </tr>\n",
       "    <tr>\n",
       "      <th>0</th>\n",
       "      <td>2021-05-17 13:49:00</td>\n",
       "      <td>Bolus</td>\n",
       "      <td>3.5</td>\n",
       "    </tr>\n",
       "    <tr>\n",
       "      <th>2</th>\n",
       "      <td>2021-05-17 13:49:00</td>\n",
       "      <td>Carbohydrates</td>\n",
       "      <td>50.0</td>\n",
       "    </tr>\n",
       "  </tbody>\n",
       "</table>\n",
       "<p>3247 rows × 3 columns</p>\n",
       "</div>"
      ],
      "text/plain": [
       "               Date_Time          Event  Value\n",
       "2894 2020-04-23 12:00:00          Bolus    5.0\n",
       "2893 2020-04-23 12:00:00  Blood glucose   23.9\n",
       "2891 2020-04-23 13:55:00  Blood glucose   16.1\n",
       "2892 2020-04-23 13:55:00  Carbohydrates   52.0\n",
       "2890 2020-04-23 13:55:00          Bolus    2.5\n",
       "...                  ...            ...    ...\n",
       "3    2021-05-17 09:29:00          Bolus    3.0\n",
       "5    2021-05-17 09:29:00  Carbohydrates   45.0\n",
       "1    2021-05-17 13:49:00  Blood glucose    2.8\n",
       "0    2021-05-17 13:49:00          Bolus    3.5\n",
       "2    2021-05-17 13:49:00  Carbohydrates   50.0\n",
       "\n",
       "[3247 rows x 3 columns]"
      ]
     },
     "execution_count": 118,
     "metadata": {},
     "output_type": "execute_result"
    }
   ],
   "source": [
    "df"
   ]
  },
  {
   "cell_type": "code",
   "execution_count": 119,
   "id": "ff865116",
   "metadata": {},
   "outputs": [],
   "source": [
    "df_split = df.pivot_table(index=['Date_Time'], columns='Event', values='Value', aggfunc='first')"
   ]
  },
  {
   "cell_type": "code",
   "execution_count": 122,
   "id": "a8e05c97",
   "metadata": {},
   "outputs": [
    {
     "data": {
      "text/html": [
       "<div>\n",
       "<style scoped>\n",
       "    .dataframe tbody tr th:only-of-type {\n",
       "        vertical-align: middle;\n",
       "    }\n",
       "\n",
       "    .dataframe tbody tr th {\n",
       "        vertical-align: top;\n",
       "    }\n",
       "\n",
       "    .dataframe thead th {\n",
       "        text-align: right;\n",
       "    }\n",
       "</style>\n",
       "<table border=\"1\" class=\"dataframe\">\n",
       "  <thead>\n",
       "    <tr style=\"text-align: right;\">\n",
       "      <th>Event</th>\n",
       "      <th>Blood glucose</th>\n",
       "      <th>Bolus</th>\n",
       "      <th>Carbohydrates</th>\n",
       "    </tr>\n",
       "    <tr>\n",
       "      <th>Date_Time</th>\n",
       "      <th></th>\n",
       "      <th></th>\n",
       "      <th></th>\n",
       "    </tr>\n",
       "  </thead>\n",
       "  <tbody>\n",
       "    <tr>\n",
       "      <th>2020-04-23 12:00:00</th>\n",
       "      <td>23.9</td>\n",
       "      <td>5.0</td>\n",
       "      <td>NaN</td>\n",
       "    </tr>\n",
       "    <tr>\n",
       "      <th>2020-04-23 13:55:00</th>\n",
       "      <td>16.1</td>\n",
       "      <td>2.5</td>\n",
       "      <td>52.0</td>\n",
       "    </tr>\n",
       "    <tr>\n",
       "      <th>2020-04-23 16:02:00</th>\n",
       "      <td>23.7</td>\n",
       "      <td>6.0</td>\n",
       "      <td>65.0</td>\n",
       "    </tr>\n",
       "    <tr>\n",
       "      <th>2020-04-23 19:54:00</th>\n",
       "      <td>15.3</td>\n",
       "      <td>5.5</td>\n",
       "      <td>70.0</td>\n",
       "    </tr>\n",
       "    <tr>\n",
       "      <th>2020-04-24 08:20:00</th>\n",
       "      <td>19.7</td>\n",
       "      <td>7.5</td>\n",
       "      <td>85.0</td>\n",
       "    </tr>\n",
       "    <tr>\n",
       "      <th>...</th>\n",
       "      <td>...</td>\n",
       "      <td>...</td>\n",
       "      <td>...</td>\n",
       "    </tr>\n",
       "    <tr>\n",
       "      <th>2021-05-16 14:35:00</th>\n",
       "      <td>5.3</td>\n",
       "      <td>6.5</td>\n",
       "      <td>80.0</td>\n",
       "    </tr>\n",
       "    <tr>\n",
       "      <th>2021-05-16 19:24:00</th>\n",
       "      <td>4.0</td>\n",
       "      <td>6.0</td>\n",
       "      <td>75.0</td>\n",
       "    </tr>\n",
       "    <tr>\n",
       "      <th>2021-05-16 19:44:00</th>\n",
       "      <td>4.1</td>\n",
       "      <td>6.0</td>\n",
       "      <td>150.0</td>\n",
       "    </tr>\n",
       "    <tr>\n",
       "      <th>2021-05-17 09:29:00</th>\n",
       "      <td>4.4</td>\n",
       "      <td>3.0</td>\n",
       "      <td>45.0</td>\n",
       "    </tr>\n",
       "    <tr>\n",
       "      <th>2021-05-17 13:49:00</th>\n",
       "      <td>2.8</td>\n",
       "      <td>3.5</td>\n",
       "      <td>50.0</td>\n",
       "    </tr>\n",
       "  </tbody>\n",
       "</table>\n",
       "<p>1091 rows × 3 columns</p>\n",
       "</div>"
      ],
      "text/plain": [
       "Event                Blood glucose  Bolus  Carbohydrates\n",
       "Date_Time                                               \n",
       "2020-04-23 12:00:00           23.9    5.0            NaN\n",
       "2020-04-23 13:55:00           16.1    2.5           52.0\n",
       "2020-04-23 16:02:00           23.7    6.0           65.0\n",
       "2020-04-23 19:54:00           15.3    5.5           70.0\n",
       "2020-04-24 08:20:00           19.7    7.5           85.0\n",
       "...                            ...    ...            ...\n",
       "2021-05-16 14:35:00            5.3    6.5           80.0\n",
       "2021-05-16 19:24:00            4.0    6.0           75.0\n",
       "2021-05-16 19:44:00            4.1    6.0          150.0\n",
       "2021-05-17 09:29:00            4.4    3.0           45.0\n",
       "2021-05-17 13:49:00            2.8    3.5           50.0\n",
       "\n",
       "[1091 rows x 3 columns]"
      ]
     },
     "execution_count": 122,
     "metadata": {},
     "output_type": "execute_result"
    }
   ],
   "source": [
    "df_split"
   ]
  },
  {
   "cell_type": "code",
   "execution_count": 124,
   "id": "6f1afeab",
   "metadata": {},
   "outputs": [
    {
     "data": {
      "text/plain": [
       "[<matplotlib.lines.Line2D at 0x17bd04f7580>]"
      ]
     },
     "execution_count": 124,
     "metadata": {},
     "output_type": "execute_result"
    },
    {
     "data": {
      "image/png": "[encoded data removed]",
      "text/plain": [
       "<Figure size 432x288 with 1 Axes>"
      ]
     },
     "metadata": {
      "needs_background": "light"
     },
     "output_type": "display_data"
    }
   ],
   "source": [
    "plot(df_split['Carbohydrates'])\n",
    "plot(df_split['Carbohydrates'].rolling(14*3, min_periods=1, center=True, closed='neither').mean())"
   ]
  },
  {
   "cell_type": "code",
   "execution_count": 96,
   "id": "dac9ae33",
   "metadata": {},
   "outputs": [
    {
     "data": {
      "text/plain": [
       "Timestamp('2020-03-04 03:14:15')"
      ]
     },
     "execution_count": 96,
     "metadata": {},
     "output_type": "execute_result"
    }
   ],
   "source": [
    "s = '2020-04-03 03:14:15'\n",
    "pd.to_datetime(s, format='%Y-%d-%m %H:%M:%S')"
   ]
  },
  {
   "cell_type": "code",
   "execution_count": 125,
   "id": "04c9d603",
   "metadata": {},
   "outputs": [
    {
     "name": "stdout",
     "output_type": "stream",
     "text": [
      "Stored 'mylife_df' (DataFrame)\n"
     ]
    }
   ],
   "source": [
    "mylife_df = df_split\n",
    "%store mylife_df"
   ]
  }
 ],
 "metadata": {
  "kernelspec": {
   "display_name": "Python 3",
   "language": "python",
   "name": "python3"
  },
  "language_info": {
   "codemirror_mode": {
    "name": "ipython",
    "version": 3
   },
   "file_extension": ".py",
   "mimetype": "text/x-python",
   "name": "python",
   "nbconvert_exporter": "python",
   "pygments_lexer": "ipython3",
   "version": "3.8.3"
  }
 },
 "nbformat": 4,
 "nbformat_minor": 5
}
